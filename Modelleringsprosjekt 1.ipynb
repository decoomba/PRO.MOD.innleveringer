{
 "cells": [
  {
   "cell_type": "markdown",
   "metadata": {},
   "source": [
    "# Hensikt\n",
    "Målet med denne oppgaven er å lage en enkel modell som regner ut gjennomsnittlig tempratur på jordkloden,\n",
    "og dermed få et lite innblikk i klimamodellering."
   ]
  },
  {
   "cell_type": "markdown",
   "metadata": {},
   "source": [
    "# Teori\n",
    "\n",
    "Når man skal lage en nøyaktig klimamodell av jordkloden er det mange fenomener man må ta hensyn til, det finnes noen slike\n",
    "tunge modeller, men for oss som bare skal lære litt om dette forenkler vi ganske mye. Vi tar bare med de aller viktigste tingene.\n",
    "\n",
    "Stefan Boltzmanns lov\n",
    "\n",
    "Alle objekter som ikke er ved det absolutte nullpunkt vil sende ut varmestråling. Hvis man vet arealet og tempraturen til\n",
    "objektet kan man regne ut denne varmestrålingen ved formelen:\n",
    "    \n",
    "    S = B*T^4      \n",
    "    \n",
    ", hvor B = 5.67*10^-8 og T er tempraturen i Kelvin.    \n",
    "Strålingen blir da gitt ved W/m^2\n",
    "\n",
    "\n",
    "For å regne ut gjennomsnitttlig tempratur på jorden, må vi vite hvor mye energi som treffer jorda. Da kan vi bruke formelen\n",
    "\n",
    "    s = (r^2/d^2)*solstråling\n",
    "\n",
    "Denne formelen kan man forklare ved at det er ikke all strålingen sola produserer som treffer jorda, det er bare en liten\n",
    "brøkdel. Man tar overflates arealet til sola og deler det på overflats arealet til sirkelen hvor radiusen er distansen mellom sola og jorda, da finner man\n",
    "riktig andel. Så kan man gange den med strålingen sola sender ut, som er funnet ved hjelp av Boltzman loven. Nå vet vi hvor mye\n",
    "mye stråling som treffer jorda per kvadratmeter.\n",
    "\n",
    "Nå kan vi komme fram til en formel som regner ut tempraturen på jorda. Vi vet at energi inn på jorda er lik energi ut, hvis ikke\n",
    "hadde jorda ikke hatt en konstant tempratur. Vi setter opp strålingen som treffer jorda ganger den med arealet til jorda \n",
    "(vi forennkler jorda til en sirkel) og prosentandelen som blir reflektert av atmosfæren, det er energi inn. Vi setter dette lik\n",
    "energi ut som er gitt ved boltzmanns lov ganget med overflaten til jorda. Vi får likningen:\n",
    "\n",
    "    s*(1-0.3)*Pi*r^2 = (B*T^4)*4*Pi*r^2\n",
    "\n",
    "Forenkler vi dette og får tempraturen alene får vi utrykket:\n",
    "   \n",
    "    t = (s*(1-0.3)/(B*4))^(1/4)\n",
    "    "
   ]
  },
  {
   "cell_type": "markdown",
   "metadata": {},
   "source": [
    "# Resultater"
   ]
  },
  {
   "cell_type": "code",
   "execution_count": 3,
   "metadata": {},
   "outputs": [
    {
     "name": "stdout",
     "output_type": "stream",
     "text": [
      "1365.948361181013\n"
     ]
    }
   ],
   "source": [
    "from pylab import *\n",
    "\n",
    "Boltzman = 5.67e-8\n",
    "temp_sol = 5778\n",
    "r_sol = 1391016e3/2\n",
    "d_sol_jord = 149600000e3\n",
    "r_jord = 6371e3\n",
    "albedo = 0.3\n",
    "\n",
    "Stråling_sol = Boltzman*(temp_sol**4)\n",
    "s = (r_sol**2/d_sol_jord**2)*Stråling_sol\n",
    "print(s)"
   ]
  },
  {
   "cell_type": "code",
   "execution_count": 4,
   "metadata": {},
   "outputs": [
    {
     "name": "stdout",
     "output_type": "stream",
     "text": [
      "-18.336567683297915\n"
     ]
    }
   ],
   "source": [
    "Tempratur_jord = ((s*(1-albedo))/(4*Boltzman))**(1/4)\n",
    "print(Tempratur_jord-273.15)\n",
    "             \n",
    "             "
   ]
  },
  {
   "cell_type": "code",
   "execution_count": 24,
   "metadata": {},
   "outputs": [
    {
     "name": "stdout",
     "output_type": "stream",
     "text": [
      "8.847418441675813\n"
     ]
    }
   ],
   "source": [
    "h = 12000\n",
    "r_atm = r_jord + h\n",
    "t_a = ((s*(1-albedo)*r_jord**2) / (Boltzman*4*r_atm**2))**(1/4)\n",
    "\n",
    "s_atmosfære = Boltzman*t_a**4 *4*3.14*r_atm**2\n",
    "\n",
    "s_inn_jord = s_atmosfære*0.5 + s*3.14*r_jord**2 *(1-albedo)\n",
    "\n",
    "temp_jord = (s_inn_jord/(Boltzman*4*3.14*r_jord**2))**(1/4)\n",
    "print(temp_jord-273.15)"
   ]
  },
  {
   "cell_type": "code",
   "execution_count": 31,
   "metadata": {},
   "outputs": [
    {
     "name": "stdout",
     "output_type": "stream",
     "text": [
      "15.03285704433597\n"
     ]
    }
   ],
   "source": [
    "h = 12000\n",
    "r_atm = r_jord + h\n",
    "t_a = ((s*(1-albedo)*r_jord**2) / (Boltzman*4*r_atm**2))**(1/4)\n",
    "\n",
    "s_atmosfære = Boltzman*t_a**4 *4*3.14*r_atm**2\n",
    "\n",
    "s_inn_jord = s_atmosfære*0.636 + s*3.14*r_jord**2 *(1-albedo)\n",
    "\n",
    "temp_jord = (s_inn_jord/(Boltzman*4*3.14*r_jord**2))**(1/4)\n",
    "print(temp_jord-273.15)"
   ]
  },
  {
   "cell_type": "markdown",
   "metadata": {},
   "source": [
    "# Drøfting\n",
    "\n",
    "Ved første program-celle regner jeg ut gjennomsnittlig stråling som treffer jorda. Jorden er forenklet til en sikrel, det blir dermed ikke tatt hensyn til at lyset fordeler seg ulikt utover jorda, siden den er buet. Så til program-celle nr. 2. Her bruker vi formelen som jeg forklarte hvordan jeg kom fram til i teoridelen lenger oppe. Det vi ikke har tatt hensyn til her er atmosfæren. Dermed får vi en mye lavere tempratur en det vi hadde hatt med drivhuseffekten, men vi har kommet fram til et ganske fornuftig resultat, tempraturen til jorda uten atmosfæren ville faktsik vært rundt 18 grader celsius.\n",
    "\n",
    "I program-celle nr.3 har vi tatt med atmosfæren. Det jeg gjorde her var å se på atmosfæren som et individuelt objekt som også sender ut stråling. Først regner jeg meg fram til tempraturen til atmosfæren, ved å løse likningen stråling som treffer jorda, er lik stråling sendt ut fra atmosfæren, løser da for tempraturen til atmosfæren. Så setter jeg den inn i utrykket for hvor mye stråling som går inn på jorda. Grunnen til at jeg har ganget strålingen til atmosfæren med 0.5 er fordi halvparten av strålingen går ut i verdensrommet. Til slutt finner jeg tempraturen til jorda nå som jeg vet strålingen som går inn på jorda. Vi får da tempraturen 8,84 grader celsius. Tenker dette er en litt lav tempratur å ha kommet fram til, men forstatt ikke helt hodemist heller. Den faktiske gjennomsnittstempraturen er på 15 grader, hvis jeg tar å sier at litt mer enn halvparten av strålingen som atmosfæren sender ut, går ned på jorden oppnår jeg dette.\n",
    "\n",
    "Oppgave 4 strevde jeg med, fikk ikke til noe spesielt.  Eneste jeg kan si noe om er at hvis jeg hadde klart å implementere at ikke all varmestråling fra sola går gjennom atmosfæren hadde det resultert i en lavere tempratur. Det at atmosfæren heller ikke tar opp all energien fra jorda hadde også resultert i en lavere tempratur. Så programmet mitt i oppgave tre underestierer tempraturen littegrann.\n",
    "\n",
    "Oppgave 5 var vanskelig, klarte ikke å framstille noe program. Men under forsøket lærte jeg at avstanden til sola ikke har så mye å si for tempraturen på et spesifikt punkt. Her i Norge for eksempel, om vinteren, er jorda nærmest sola. Det er tiltningen på jorda som har mest å si. Om vinteren treffer solstrålene atmosfæren på skrå, ikke like mye solstråling går igjennom fordi atmosfæren blir på en måte tykkere. Derfor er det kaldere om vinteren i Norge. Så hvis jeg hadde klart å framstille et program hadde vi sett at tempraturen variererte med parameteren om tiltningen til jorda. "
   ]
  },
  {
   "cell_type": "markdown",
   "metadata": {},
   "source": [
    "# Konklusjon\n",
    "\n",
    "Klimamodellering er vanskelig. Det å ta hensyn til alt av naturfenomener er utrolig vanskelig og man trenger masse data for å får riktige parametere. Man kan utvide slike modeller utallige ganger tenker jeg, det viktigste derimot er å ta hensyn til det man trenger aller mest. Vi klarte å komme fram til en gjennomsnitts-tempratur på 9 grader ved bare å ta hensyn til atmosfæren, stråling fra sola, stråling fra atmosfæren og strålig fra jorda.\n",
    "I løpet av arbeidet med rapporten har jeg lært endel om ulike naturfenomener som påvirker tempraturen på jorda, en lærerik oppgave.\n",
    "\n",
    "Magnus Flo Lenz"
   ]
  }
 ],
 "metadata": {
  "kernelspec": {
   "display_name": "Python 3",
   "language": "python",
   "name": "python3"
  },
  "language_info": {
   "codemirror_mode": {
    "name": "ipython",
    "version": 3
   },
   "file_extension": ".py",
   "mimetype": "text/x-python",
   "name": "python",
   "nbconvert_exporter": "python",
   "pygments_lexer": "ipython3",
   "version": "3.8.3"
  }
 },
 "nbformat": 4,
 "nbformat_minor": 4
}
